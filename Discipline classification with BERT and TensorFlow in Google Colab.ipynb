{
 "cells": [
  {
   "cell_type": "markdown",
   "metadata": {},
   "source": [
    "This is the code to be run in Google Colab"
   ]
  },
  {
   "cell_type": "markdown",
   "metadata": {},
   "source": [
    "When a researcher submits his/her grant application, he also informs to grant agency his/her choice of discipline. This choice is not always accurate and could play a decisive role in receiving of the grant. The automatic classification of applications to suitable disciplines is possible by creating a classification model based on summaries of the applications, as shown below."
   ]
  },
  {
   "cell_type": "markdown",
   "metadata": {},
   "source": [
    "Reference I used for my case: BERT NLP Tutorial 2 - IMDB Movies Sentiment Analysis using BERT & TensorFlow 2 | NLP BERT Tutorial https://www.youtube.com/watch?v=sZdIybqppqQ"
   ]
  },
  {
   "cell_type": "code",
   "execution_count": null,
   "metadata": {
    "colab": {},
    "colab_type": "code",
    "id": "4w5nM5H9REoT"
   },
   "outputs": [],
   "source": [
    "#ktrain is a lightweight wrapper for the deep learning library TensorFlow\n",
    "!pip install ktrain"
   ]
  },
  {
   "cell_type": "code",
   "execution_count": null,
   "metadata": {
    "colab": {},
    "colab_type": "code",
    "id": "rbKNa5miREoX"
   },
   "outputs": [],
   "source": [
    "#the deep learning library TensorFlow\n",
    "!pip install tensorflow"
   ]
  },
  {
   "cell_type": "code",
   "execution_count": null,
   "metadata": {
    "colab": {},
    "colab_type": "code",
    "id": "tY1idMtfREod"
   },
   "outputs": [],
   "source": [
    "#importing required modules\n",
    "import numpy as np\n",
    "import pandas as pd\n",
    "import tensorflow as tf\n",
    "import ktrain\n",
    "from ktrain import text"
   ]
  },
  {
   "cell_type": "markdown",
   "metadata": {},
   "source": [
    "The development of classification model needs data to train on and data to test. The following steps are taken to develop a model by using training data (summary and discipline per application) of a given grant round and then applying the model on the test data (summary and discipline per application) of the same grant round. I usually do half (26000) of the grant applications for training and other half(26000) for the testing, but it depends also on the nummber of applications. "
   ]
  },
  {
   "cell_type": "code",
   "execution_count": null,
   "metadata": {
    "colab": {},
    "colab_type": "code",
    "id": "ZlweZ2rxREok"
   },
   "outputs": [],
   "source": [
    "#reading the application excel as a TRAINING data where there are following columns: application number, summary, disciplines (selected by applicant)\n",
    "#The excel needs tobe in your google drive in the contents folder\n",
    "df_train=pd.read_excel('/content/sample_data/train_data.xlsx')"
   ]
  },
  {
   "cell_type": "code",
   "execution_count": null,
   "metadata": {
    "colab": {
     "base_uri": "https://localhost:8080/",
     "height": 204
    },
    "colab_type": "code",
    "id": "k-qxUB1DREon",
    "outputId": "6001b770-4acf-4825-c89e-96b55d47de11"
   },
   "outputs": [],
   "source": [
    "#Check\n",
    "df_train.head()"
   ]
  },
  {
   "cell_type": "code",
   "execution_count": null,
   "metadata": {
    "colab": {},
    "colab_type": "code",
    "id": "lWXJmWxuX-RB"
   },
   "outputs": [],
   "source": [
    "#dropping the nan values \n",
    "df_train = df_train[df_train['sumary'].notna()]"
   ]
  },
  {
   "cell_type": "code",
   "execution_count": null,
   "metadata": {
    "colab": {},
    "colab_type": "code",
    "id": "wXYI3r3GREoq"
   },
   "outputs": [],
   "source": [
    "#reading the application excel as a TESTING data where there are following columns: application number, summary, disciplines (selected by applicant)\n",
    "#The excel needs tobe in your google drive in the contents folder\n",
    "df_test=pd.read_excel('/content/sample_data/test_data.xlsx')"
   ]
  },
  {
   "cell_type": "code",
   "execution_count": null,
   "metadata": {
    "colab": {
     "base_uri": "https://localhost:8080/",
     "height": 204
    },
    "colab_type": "code",
    "id": "LczoSKubREou",
    "outputId": "e81a046b-4553-435e-b949-2a324c8c9d63"
   },
   "outputs": [],
   "source": [
    "#test data to validate\n",
    "df_test.head()"
   ]
  },
  {
   "cell_type": "code",
   "execution_count": null,
   "metadata": {
    "colab": {},
    "colab_type": "code",
    "id": "jFZqylg4YJAL"
   },
   "outputs": [],
   "source": [
    "#dropping the nan values \n",
    "df_test = df_test[df_test['summary'].notna()]"
   ]
  },
  {
   "cell_type": "code",
   "execution_count": null,
   "metadata": {
    "colab": {},
    "colab_type": "code",
    "id": "M9Qy1IGHREow"
   },
   "outputs": [],
   "source": [
    "#using bert NLP model, considering 400 columns,\n",
    "(X_train, y_train), (X_test, y_test), preprocess=text.texts_from_df(train_df=df_train,text_column='summary', label_columns='discipline', val_df=df_test, maxlen=400, preprocess_mode='bert')"
   ]
  },
  {
   "cell_type": "code",
   "execution_count": null,
   "metadata": {
    "colab": {
     "base_uri": "https://localhost:8080/",
     "height": 34
    },
    "colab_type": "code",
    "id": "Nfc0y0oWgQJ7",
    "outputId": "53ac1375-2843-4c6c-9313-afed0289e784"
   },
   "outputs": [],
   "source": [
    "#Checking the shape of X_train\n",
    "X_train[0].shape"
   ]
  },
  {
   "cell_type": "code",
   "execution_count": null,
   "metadata": {
    "colab": {
     "base_uri": "https://localhost:8080/",
     "height": 68
    },
    "colab_type": "code",
    "id": "gEm457BaREoz",
    "outputId": "62e4485c-0b57-41d4-9834-d156d2639cd3"
   },
   "outputs": [],
   "source": [
    "#building a model, preprocess mode with bert NLP model\n",
    "model= text.text_classifier(name='bert', train_data=(X_train, y_train), preproc=preprocess)"
   ]
  },
  {
   "cell_type": "code",
   "execution_count": null,
   "metadata": {
    "colab": {},
    "colab_type": "code",
    "id": "FeSzFI0WhGKU"
   },
   "outputs": [],
   "source": [
    "#Get Learning Rate, considering 6 summaries at a time\n",
    "learner = ktrain.get_learner(model=model, train_data=(X_train, y_train),val_data=(X_test, y_test), batch_size=6)"
   ]
  },
  {
   "cell_type": "code",
   "execution_count": null,
   "metadata": {
    "colab": {
     "base_uri": "https://localhost:8080/",
     "height": 231
    },
    "colab_type": "code",
    "id": "w61TkxoNi1_B",
    "outputId": "686ac7b7-65da-43b3-e7d9-2ed6231cc1d3"
   },
   "outputs": [],
   "source": [
    "##this might take days to run\n",
    "#learner.lr_find()\n",
    "#learner.lr_plot()\n",
    "\n",
    "#Optimal learning rate for this model is 2e-5"
   ]
  },
  {
   "cell_type": "code",
   "execution_count": null,
   "metadata": {},
   "outputs": [],
   "source": [
    "#assigning learning rate\n",
    "learner.fit_onecycle(lr=2e-5, epochs=1)"
   ]
  },
  {
   "cell_type": "code",
   "execution_count": null,
   "metadata": {
    "colab": {},
    "colab_type": "code",
    "id": "QFR6o_X9lWr_"
   },
   "outputs": [],
   "source": [
    "#building a predictor to predict \n",
    "predictor=ktrain.get_predictor(learner.model, preprocess)"
   ]
  },
  {
   "cell_type": "markdown",
   "metadata": {},
   "source": [
    "After the development of predictor, it can be used to predict discipline for given application by feeding in the summary of the application, as follows:"
   ]
  },
  {
   "cell_type": "code",
   "execution_count": null,
   "metadata": {
    "colab": {},
    "colab_type": "code",
    "id": "ZdZJk8kaFmMv"
   },
   "outputs": [],
   "source": [
    "#Here goes the summary of the grant application that you want to automatically classify the discipline\n",
    "#Converting vector values into string values\n",
    "data = ['Foam generated with a surfactant solution and nitrogen is used for oil recovery, acid diversion and aquifer remediation. In laboratory experiments, the foam mobility is expressed in terms of the pressure drop across the porous medium and is related to many physical processes. There is lack of data that relate the pressure drop to a combination of three or more variables simultaneously. This paper investigates the steady state pressure drop for a combination of six variables, viz., permeability, surfactant concentration,pH, salinity, surfactant solution velocity and gas velocity.']"
   ]
  },
  {
   "cell_type": "code",
   "execution_count": null,
   "metadata": {
    "colab": {
     "base_uri": "https://localhost:8080/",
     "height": 34
    },
    "colab_type": "code",
    "id": "oqO4dBI_mjYH",
    "outputId": "22c82290-3f0b-4ea2-bc59-99ab36f23b5a"
   },
   "outputs": [],
   "source": [
    "#prediction\n",
    "predictor.predict(data)"
   ]
  },
  {
   "cell_type": "code",
   "execution_count": null,
   "metadata": {
    "colab": {},
    "colab_type": "code",
    "id": "GMWyb3WKmtiP"
   },
   "outputs": [],
   "source": [
    "#saving the predictor to the folder\n",
    "predictor.save('/content/bert')"
   ]
  }
 ],
 "metadata": {
  "colab": {
   "collapsed_sections": [],
   "name": "20200614 Sentiment Analysis using BERT & TensorFlow 2.ipynb",
   "provenance": []
  },
  "kernelspec": {
   "display_name": "Python 3",
   "language": "python",
   "name": "python3"
  },
  "language_info": {
   "codemirror_mode": {
    "name": "ipython",
    "version": 3
   },
   "file_extension": ".py",
   "mimetype": "text/x-python",
   "name": "python",
   "nbconvert_exporter": "python",
   "pygments_lexer": "ipython3",
   "version": "3.7.6"
  }
 },
 "nbformat": 4,
 "nbformat_minor": 1
}
